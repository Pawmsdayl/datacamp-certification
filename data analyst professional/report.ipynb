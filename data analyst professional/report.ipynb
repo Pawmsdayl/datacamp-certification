{
 "cells": [
  {
   "cell_type": "markdown",
   "metadata": {},
   "source": [
    "We need to know:\n",
    "- How many customers were there for each approach?\n",
    "- What does the spread of the revenue look like overall? And for each method?\n",
    "- Was there any difference in revenue over time for each of the methods?\n",
    "- Based on the data, which method would you recommend we continue to use? Some\n",
    "of these methods take more time from the team so they may not be the best for us\n",
    "to use if the results are similar.  \n",
    "\n",
    "We don’t really know if there are other differences between the customers in each group, so\n",
    "anything you can tell us would be really helpful to give some context to what went well."
   ]
  },
  {
   "cell_type": "markdown",
   "metadata": {},
   "source": [
    "## About Pens and Printers\n",
    "Pens and Printers was founded in 1984 and provides high quality office products to large\n",
    "organizations. We are a trusted provider of everything from pens and notebooks to desk\n",
    "chairs and monitors. We don’t produce our own products but sell those made by other\n",
    "companies.  \n",
    "\n",
    "We have built long lasting relationships with our customers and they trust us to provide them\n",
    "with the best products for them. As the way in which consumers buy products is changing,\n",
    "our sales tactics have to change too. Launching a new product line is expensive and we need\n",
    "to make sure we are using the best techniques to sell the new product effectively. The best\n",
    "approach may vary for each new product so we need to learn quickly what works and what\n",
    "doesn’t."
   ]
  },
  {
   "cell_type": "markdown",
   "metadata": {},
   "source": [
    "## New Product Sales Methods\n",
    "Six weeks ago we launched a new line of office stationery. Despite the world becoming\n",
    "increasingly digital, there is still demand for notebooks, pens and sticky notes.  \n",
    "\n",
    "Our focus has been on selling products to enable our customers to be more creative, focused\n",
    "on tools for brainstorming. We have tested three different sales strategies for this, targeted\n",
    "email and phone calls, as well as combining the two.\n",
    "\n",
    "**Email**: Customers in this group received an email when the product line was launched, and a\n",
    "further email three weeks later. This required very little work for the team.  \n",
    "\n",
    "**Call**: Customers in this group were called by a member of the sales team. On average\n",
    "members of the team were on the phone for around thirty minutes per customer.  \n",
    "\n",
    "**Email and call**: Customers in this group were first sent the product information email, then\n",
    "called a week later by the sales team to talk about their needs and how this new product\n",
    "may support their work. The email required little work from the team, the call was around ten\n",
    "minutes per customer.\n"
   ]
  },
  {
   "cell_type": "markdown",
   "metadata": {},
   "source": [
    "# Data Information\n",
    "The sales rep has pulled some data from their sales tracking system for us. They haven’t\n",
    "included numbers for how much time was spent on each customer, but there may be some\n",
    "other useful customer information in here.  \n",
    "\n",
    "The data only relates to the new products sold. As there are multiple different products, the\n",
    "revenue will vary depending on which products were sold.  \n",
    "\n",
    "You can find the data here. I will let you decide how to process it, just make sure you include\n",
    "all your decisions in your report.  \n",
    "\n",
    "The data hasn’t been validated, so make sure that you check it against all of the information\n",
    "in the table before you start your analysis.\n",
    "\n",
    "| Column Name         | Details                                                                 |\n",
    "|---------------------|-------------------------------------------------------------------------|\n",
    "| week                | Week sale was made, counted as weeks since product launch               |\n",
    "| sales_method        | Character, which of the three sales methods were used for that customer |\n",
    "| customer_id         | Character, unique identifier for the customer                           |\n",
    "| nb_sold             | Numeric, number of new products sold                                    |\n",
    "| revenue             | Numeric, revenue from the sales, rounded to 2 decimal places            |\n",
    "| years_as_customer   | Numeric, number of years customer has been buying from us (company founded in 1984) |\n",
    "| nb_site_visits      | Numeric, number of times the customer has visited our website in the last 6 months |\n",
    "| state               | Character, location of the customer i.e. where orders are shipped       |"
   ]
  },
  {
   "cell_type": "markdown",
   "metadata": {},
   "source": [
    "# Written Report  \n",
    "Your written report should include written text summaries and graphics of the following:  \n",
    "* Data validation:  \n",
    "** Describe validation and cleaning steps for every column in the data  \n",
    "* Exploratory Analysis to answer the customer questions ensuring you include:  \n",
    "** Two different types of graphic showing single variables only  \n",
    "** At least one graphic showing two or more variables  \n",
    "** Description of your findings  \n",
    "* Definition of a metric for the business to monitor  \n",
    "** How should the business monitor what they want to achieve?  \n",
    "** Estimate the initial value(s) for the metric based on the current data?  \n",
    "* Final summary including recommendations that the business should undertake  "
   ]
  },
  {
   "cell_type": "code",
   "execution_count": 15,
   "metadata": {},
   "outputs": [],
   "source": [
    "# import modules\n",
    "import pandas as pd\n",
    "import seaborn as sns"
   ]
  },
  {
   "cell_type": "code",
   "execution_count": 2,
   "metadata": {},
   "outputs": [
    {
     "data": {
      "text/html": [
       "<div>\n",
       "<style scoped>\n",
       "    .dataframe tbody tr th:only-of-type {\n",
       "        vertical-align: middle;\n",
       "    }\n",
       "\n",
       "    .dataframe tbody tr th {\n",
       "        vertical-align: top;\n",
       "    }\n",
       "\n",
       "    .dataframe thead th {\n",
       "        text-align: right;\n",
       "    }\n",
       "</style>\n",
       "<table border=\"1\" class=\"dataframe\">\n",
       "  <thead>\n",
       "    <tr style=\"text-align: right;\">\n",
       "      <th></th>\n",
       "      <th>week</th>\n",
       "      <th>sales_method</th>\n",
       "      <th>customer_id</th>\n",
       "      <th>nb_sold</th>\n",
       "      <th>revenue</th>\n",
       "      <th>years_as_customer</th>\n",
       "      <th>nb_site_visits</th>\n",
       "      <th>state</th>\n",
       "    </tr>\n",
       "  </thead>\n",
       "  <tbody>\n",
       "    <tr>\n",
       "      <th>0</th>\n",
       "      <td>2</td>\n",
       "      <td>Email</td>\n",
       "      <td>2e72d641-95ac-497b-bbf8-4861764a7097</td>\n",
       "      <td>10</td>\n",
       "      <td>NaN</td>\n",
       "      <td>0</td>\n",
       "      <td>24</td>\n",
       "      <td>Arizona</td>\n",
       "    </tr>\n",
       "    <tr>\n",
       "      <th>1</th>\n",
       "      <td>6</td>\n",
       "      <td>Email + Call</td>\n",
       "      <td>3998a98d-70f5-44f7-942e-789bb8ad2fe7</td>\n",
       "      <td>15</td>\n",
       "      <td>225.47</td>\n",
       "      <td>1</td>\n",
       "      <td>28</td>\n",
       "      <td>Kansas</td>\n",
       "    </tr>\n",
       "    <tr>\n",
       "      <th>2</th>\n",
       "      <td>5</td>\n",
       "      <td>Call</td>\n",
       "      <td>d1de9884-8059-4065-b10f-86eef57e4a44</td>\n",
       "      <td>11</td>\n",
       "      <td>52.55</td>\n",
       "      <td>6</td>\n",
       "      <td>26</td>\n",
       "      <td>Wisconsin</td>\n",
       "    </tr>\n",
       "    <tr>\n",
       "      <th>3</th>\n",
       "      <td>4</td>\n",
       "      <td>Email</td>\n",
       "      <td>78aa75a4-ffeb-4817-b1d0-2f030783c5d7</td>\n",
       "      <td>11</td>\n",
       "      <td>NaN</td>\n",
       "      <td>3</td>\n",
       "      <td>25</td>\n",
       "      <td>Indiana</td>\n",
       "    </tr>\n",
       "    <tr>\n",
       "      <th>4</th>\n",
       "      <td>3</td>\n",
       "      <td>Email</td>\n",
       "      <td>10e6d446-10a5-42e5-8210-1b5438f70922</td>\n",
       "      <td>9</td>\n",
       "      <td>90.49</td>\n",
       "      <td>0</td>\n",
       "      <td>28</td>\n",
       "      <td>Illinois</td>\n",
       "    </tr>\n",
       "  </tbody>\n",
       "</table>\n",
       "</div>"
      ],
      "text/plain": [
       "   week  sales_method                           customer_id  nb_sold  revenue  \\\n",
       "0     2         Email  2e72d641-95ac-497b-bbf8-4861764a7097       10      NaN   \n",
       "1     6  Email + Call  3998a98d-70f5-44f7-942e-789bb8ad2fe7       15   225.47   \n",
       "2     5          Call  d1de9884-8059-4065-b10f-86eef57e4a44       11    52.55   \n",
       "3     4         Email  78aa75a4-ffeb-4817-b1d0-2f030783c5d7       11      NaN   \n",
       "4     3         Email  10e6d446-10a5-42e5-8210-1b5438f70922        9    90.49   \n",
       "\n",
       "   years_as_customer  nb_site_visits      state  \n",
       "0                  0              24    Arizona  \n",
       "1                  1              28     Kansas  \n",
       "2                  6              26  Wisconsin  \n",
       "3                  3              25    Indiana  \n",
       "4                  0              28   Illinois  "
      ]
     },
     "execution_count": 2,
     "metadata": {},
     "output_type": "execute_result"
    }
   ],
   "source": [
    "# import data\n",
    "raw = pd.read_csv('product_sales.csv')\n",
    "\n",
    "# display\n",
    "raw.head()"
   ]
  },
  {
   "cell_type": "code",
   "execution_count": 3,
   "metadata": {},
   "outputs": [
    {
     "data": {
      "text/plain": [
       "week                    0\n",
       "sales_method            0\n",
       "customer_id             0\n",
       "nb_sold                 0\n",
       "revenue              1074\n",
       "years_as_customer       0\n",
       "nb_site_visits          0\n",
       "state                   0\n",
       "dtype: int64"
      ]
     },
     "execution_count": 3,
     "metadata": {},
     "output_type": "execute_result"
    }
   ],
   "source": [
    "# check for missing values per column\n",
    "raw.isnull().sum()"
   ]
  },
  {
   "cell_type": "code",
   "execution_count": 4,
   "metadata": {},
   "outputs": [
    {
     "data": {
      "text/plain": [
       "week                 0\n",
       "sales_method         0\n",
       "customer_id          0\n",
       "nb_sold              0\n",
       "revenue              0\n",
       "years_as_customer    0\n",
       "nb_site_visits       0\n",
       "state                0\n",
       "dtype: int64"
      ]
     },
     "execution_count": 4,
     "metadata": {},
     "output_type": "execute_result"
    }
   ],
   "source": [
    "# impute missing revenue values with the mean\n",
    "prep_no_missing = raw.copy()\n",
    "prep_no_missing['revenue'] = prep_no_missing['revenue'].fillna(prep_no_missing['revenue'].mean())\n",
    "\n",
    "# check for missing values per column\n",
    "prep_no_missing.isnull().sum()"
   ]
  },
  {
   "cell_type": "code",
   "execution_count": 5,
   "metadata": {},
   "outputs": [
    {
     "name": "stdout",
     "output_type": "stream",
     "text": [
      "['Email' 'Email + Call' 'Call' 'em + call' 'email']\n",
      "['Arizona' 'Kansas' 'Wisconsin' 'Indiana' 'Illinois' 'Mississippi'\n",
      " 'Georgia' 'Oklahoma' 'Massachusetts' 'Missouri' 'Texas' 'New York'\n",
      " 'Maryland' 'California' 'Tennessee' 'Pennsylvania' 'North Dakota'\n",
      " 'Florida' 'Michigan' 'North Carolina' 'Hawaii' 'Colorado' 'Louisiana'\n",
      " 'Virginia' 'New Mexico' 'Arkansas' 'Alaska' 'Oregon' 'New Hampshire'\n",
      " 'Ohio' 'New Jersey' 'Connecticut' 'Iowa' 'Montana' 'Washington'\n",
      " 'Kentucky' 'Alabama' 'Nebraska' 'South Carolina' 'Minnesota'\n",
      " 'South Dakota' 'Delaware' 'Maine' 'Utah' 'West Virginia' 'Vermont'\n",
      " 'Rhode Island' 'Nevada' 'Idaho' 'Wyoming']\n"
     ]
    }
   ],
   "source": [
    "# check unique values in sales_method and state\n",
    "print(prep_no_missing['sales_method'].unique())\n",
    "print(prep_no_missing['state'].unique())"
   ]
  },
  {
   "cell_type": "code",
   "execution_count": 6,
   "metadata": {},
   "outputs": [
    {
     "name": "stdout",
     "output_type": "stream",
     "text": [
      "['email' 'email + call' 'call']\n",
      "['arizona' 'kansas' 'wisconsin' 'indiana' 'illinois' 'mississippi'\n",
      " 'georgia' 'oklahoma' 'massachusetts' 'missouri' 'texas' 'new york'\n",
      " 'maryland' 'california' 'tennessee' 'pennsylvania' 'north dakota'\n",
      " 'florida' 'michigan' 'north carolina' 'hawaii' 'colorado' 'louisiana'\n",
      " 'virginia' 'new mexico' 'arkansas' 'alaska' 'oregon' 'new hampshire'\n",
      " 'ohio' 'new jersey' 'connecticut' 'iowa' 'montana' 'washington'\n",
      " 'kentucky' 'alabama' 'nebraska' 'south carolina' 'minnesota'\n",
      " 'south dakota' 'delaware' 'maine' 'utah' 'west virginia' 'vermont'\n",
      " 'rhode island' 'nevada' 'idaho' 'wyoming']\n"
     ]
    }
   ],
   "source": [
    "# make string value lowercase\n",
    "prep_clean_str = prep_no_missing.copy()\n",
    "prep_clean_str['sales_method'] = prep_clean_str['sales_method'].str.lower()\n",
    "prep_clean_str['state'] = prep_clean_str['state'].str.lower()\n",
    "\n",
    "# validate string value\n",
    "prep_clean_str['sales_method'] = prep_clean_str['sales_method'].replace('em + call', 'email + call')\n",
    "\n",
    "# check unique values in sales_method and state\n",
    "print(prep_clean_str['sales_method'].unique())\n",
    "print(prep_clean_str['state'].unique())"
   ]
  },
  {
   "cell_type": "code",
   "execution_count": 7,
   "metadata": {},
   "outputs": [
    {
     "data": {
      "text/html": [
       "<div>\n",
       "<style scoped>\n",
       "    .dataframe tbody tr th:only-of-type {\n",
       "        vertical-align: middle;\n",
       "    }\n",
       "\n",
       "    .dataframe tbody tr th {\n",
       "        vertical-align: top;\n",
       "    }\n",
       "\n",
       "    .dataframe thead th {\n",
       "        text-align: right;\n",
       "    }\n",
       "</style>\n",
       "<table border=\"1\" class=\"dataframe\">\n",
       "  <thead>\n",
       "    <tr style=\"text-align: right;\">\n",
       "      <th></th>\n",
       "      <th>week</th>\n",
       "      <th>sales_method</th>\n",
       "      <th>customer_id</th>\n",
       "      <th>nb_sold</th>\n",
       "      <th>revenue</th>\n",
       "      <th>years_as_customer</th>\n",
       "      <th>nb_site_visits</th>\n",
       "      <th>state</th>\n",
       "    </tr>\n",
       "  </thead>\n",
       "  <tbody>\n",
       "    <tr>\n",
       "      <th>13741</th>\n",
       "      <td>2</td>\n",
       "      <td>email</td>\n",
       "      <td>18919515-a618-430c-9a05-2c7d8fea96af</td>\n",
       "      <td>10</td>\n",
       "      <td>97.22</td>\n",
       "      <td>63</td>\n",
       "      <td>24</td>\n",
       "      <td>california</td>\n",
       "    </tr>\n",
       "    <tr>\n",
       "      <th>13800</th>\n",
       "      <td>4</td>\n",
       "      <td>call</td>\n",
       "      <td>2ea97d34-571d-4e1b-95be-fea1c404649f</td>\n",
       "      <td>10</td>\n",
       "      <td>50.47</td>\n",
       "      <td>47</td>\n",
       "      <td>27</td>\n",
       "      <td>california</td>\n",
       "    </tr>\n",
       "  </tbody>\n",
       "</table>\n",
       "</div>"
      ],
      "text/plain": [
       "       week sales_method                           customer_id  nb_sold  \\\n",
       "13741     2        email  18919515-a618-430c-9a05-2c7d8fea96af       10   \n",
       "13800     4         call  2ea97d34-571d-4e1b-95be-fea1c404649f       10   \n",
       "\n",
       "       revenue  years_as_customer  nb_site_visits       state  \n",
       "13741    97.22                 63              24  california  \n",
       "13800    50.47                 47              27  california  "
      ]
     },
     "execution_count": 7,
     "metadata": {},
     "output_type": "execute_result"
    }
   ],
   "source": [
    "# check for invalid years_as_customer\n",
    "invalid_years_as_customer = (2025 - prep_clean_str['years_as_customer'] < 1984)\n",
    "prep_clean_str[invalid_years_as_customer]"
   ]
  },
  {
   "cell_type": "code",
   "execution_count": 8,
   "metadata": {},
   "outputs": [
    {
     "name": "stderr",
     "output_type": "stream",
     "text": [
      "C:\\Users\\User\\AppData\\Local\\Temp\\ipykernel_12996\\1364868925.py:6: UserWarning: Boolean Series key will be reindexed to match DataFrame index.\n",
      "  prep_clean_years_as_customer[invalid_years_as_customer]\n"
     ]
    },
    {
     "data": {
      "text/html": [
       "<div>\n",
       "<style scoped>\n",
       "    .dataframe tbody tr th:only-of-type {\n",
       "        vertical-align: middle;\n",
       "    }\n",
       "\n",
       "    .dataframe tbody tr th {\n",
       "        vertical-align: top;\n",
       "    }\n",
       "\n",
       "    .dataframe thead th {\n",
       "        text-align: right;\n",
       "    }\n",
       "</style>\n",
       "<table border=\"1\" class=\"dataframe\">\n",
       "  <thead>\n",
       "    <tr style=\"text-align: right;\">\n",
       "      <th></th>\n",
       "      <th>week</th>\n",
       "      <th>sales_method</th>\n",
       "      <th>customer_id</th>\n",
       "      <th>nb_sold</th>\n",
       "      <th>revenue</th>\n",
       "      <th>years_as_customer</th>\n",
       "      <th>nb_site_visits</th>\n",
       "      <th>state</th>\n",
       "    </tr>\n",
       "  </thead>\n",
       "  <tbody>\n",
       "  </tbody>\n",
       "</table>\n",
       "</div>"
      ],
      "text/plain": [
       "Empty DataFrame\n",
       "Columns: [week, sales_method, customer_id, nb_sold, revenue, years_as_customer, nb_site_visits, state]\n",
       "Index: []"
      ]
     },
     "execution_count": 8,
     "metadata": {},
     "output_type": "execute_result"
    }
   ],
   "source": [
    "# remove rows with invalid years_as_customer\n",
    "prep_clean_years_as_customer = prep_clean_str.copy()\n",
    "prep_clean_years_as_customer = prep_clean_years_as_customer[~invalid_years_as_customer]\n",
    "\n",
    "# check for invalid years_as_customer\n",
    "prep_clean_years_as_customer[invalid_years_as_customer]"
   ]
  },
  {
   "cell_type": "code",
   "execution_count": 9,
   "metadata": {},
   "outputs": [
    {
     "data": {
      "text/plain": [
       "week                 0\n",
       "nb_sold              0\n",
       "revenue              0\n",
       "years_as_customer    0\n",
       "nb_site_visits       0\n",
       "dtype: int64"
      ]
     },
     "execution_count": 9,
     "metadata": {},
     "output_type": "execute_result"
    }
   ],
   "source": [
    "# check for negative numeric values\n",
    "negative_values = prep_clean_years_as_customer._get_numeric_data().lt(0).sum()\n",
    "negative_values"
   ]
  },
  {
   "cell_type": "code",
   "execution_count": 10,
   "metadata": {},
   "outputs": [
    {
     "data": {
      "text/html": [
       "<div>\n",
       "<style scoped>\n",
       "    .dataframe tbody tr th:only-of-type {\n",
       "        vertical-align: middle;\n",
       "    }\n",
       "\n",
       "    .dataframe tbody tr th {\n",
       "        vertical-align: top;\n",
       "    }\n",
       "\n",
       "    .dataframe thead th {\n",
       "        text-align: right;\n",
       "    }\n",
       "</style>\n",
       "<table border=\"1\" class=\"dataframe\">\n",
       "  <thead>\n",
       "    <tr style=\"text-align: right;\">\n",
       "      <th></th>\n",
       "      <th>week</th>\n",
       "      <th>nb_sold</th>\n",
       "      <th>revenue</th>\n",
       "      <th>years_as_customer</th>\n",
       "      <th>nb_site_visits</th>\n",
       "    </tr>\n",
       "  </thead>\n",
       "  <tbody>\n",
       "    <tr>\n",
       "      <th>count</th>\n",
       "      <td>14998.00000</td>\n",
       "      <td>14998.000000</td>\n",
       "      <td>14998.000000</td>\n",
       "      <td>14998.000000</td>\n",
       "      <td>14998.000000</td>\n",
       "    </tr>\n",
       "    <tr>\n",
       "      <th>mean</th>\n",
       "      <td>3.09828</td>\n",
       "      <td>10.084678</td>\n",
       "      <td>93.937622</td>\n",
       "      <td>4.959261</td>\n",
       "      <td>24.990799</td>\n",
       "    </tr>\n",
       "    <tr>\n",
       "      <th>std</th>\n",
       "      <td>1.65649</td>\n",
       "      <td>1.812334</td>\n",
       "      <td>45.707135</td>\n",
       "      <td>5.011237</td>\n",
       "      <td>3.501100</td>\n",
       "    </tr>\n",
       "    <tr>\n",
       "      <th>min</th>\n",
       "      <td>1.00000</td>\n",
       "      <td>7.000000</td>\n",
       "      <td>32.540000</td>\n",
       "      <td>0.000000</td>\n",
       "      <td>12.000000</td>\n",
       "    </tr>\n",
       "    <tr>\n",
       "      <th>25%</th>\n",
       "      <td>2.00000</td>\n",
       "      <td>9.000000</td>\n",
       "      <td>53.042500</td>\n",
       "      <td>1.000000</td>\n",
       "      <td>23.000000</td>\n",
       "    </tr>\n",
       "    <tr>\n",
       "      <th>50%</th>\n",
       "      <td>3.00000</td>\n",
       "      <td>10.000000</td>\n",
       "      <td>91.865000</td>\n",
       "      <td>3.000000</td>\n",
       "      <td>25.000000</td>\n",
       "    </tr>\n",
       "    <tr>\n",
       "      <th>75%</th>\n",
       "      <td>5.00000</td>\n",
       "      <td>11.000000</td>\n",
       "      <td>106.070000</td>\n",
       "      <td>7.000000</td>\n",
       "      <td>27.000000</td>\n",
       "    </tr>\n",
       "    <tr>\n",
       "      <th>max</th>\n",
       "      <td>6.00000</td>\n",
       "      <td>16.000000</td>\n",
       "      <td>238.320000</td>\n",
       "      <td>39.000000</td>\n",
       "      <td>41.000000</td>\n",
       "    </tr>\n",
       "  </tbody>\n",
       "</table>\n",
       "</div>"
      ],
      "text/plain": [
       "              week       nb_sold       revenue  years_as_customer  \\\n",
       "count  14998.00000  14998.000000  14998.000000       14998.000000   \n",
       "mean       3.09828     10.084678     93.937622           4.959261   \n",
       "std        1.65649      1.812334     45.707135           5.011237   \n",
       "min        1.00000      7.000000     32.540000           0.000000   \n",
       "25%        2.00000      9.000000     53.042500           1.000000   \n",
       "50%        3.00000     10.000000     91.865000           3.000000   \n",
       "75%        5.00000     11.000000    106.070000           7.000000   \n",
       "max        6.00000     16.000000    238.320000          39.000000   \n",
       "\n",
       "       nb_site_visits  \n",
       "count    14998.000000  \n",
       "mean        24.990799  \n",
       "std          3.501100  \n",
       "min         12.000000  \n",
       "25%         23.000000  \n",
       "50%         25.000000  \n",
       "75%         27.000000  \n",
       "max         41.000000  "
      ]
     },
     "execution_count": 10,
     "metadata": {},
     "output_type": "execute_result"
    }
   ],
   "source": [
    "# describe the data\n",
    "cleaned = prep_clean_years_as_customer.copy()\n",
    "cleaned.describe()"
   ]
  },
  {
   "cell_type": "code",
   "execution_count": 12,
   "metadata": {},
   "outputs": [
    {
     "data": {
      "text/html": [
       "<div>\n",
       "<style scoped>\n",
       "    .dataframe tbody tr th:only-of-type {\n",
       "        vertical-align: middle;\n",
       "    }\n",
       "\n",
       "    .dataframe tbody tr th {\n",
       "        vertical-align: top;\n",
       "    }\n",
       "\n",
       "    .dataframe thead th {\n",
       "        text-align: right;\n",
       "    }\n",
       "</style>\n",
       "<table border=\"1\" class=\"dataframe\">\n",
       "  <thead>\n",
       "    <tr style=\"text-align: right;\">\n",
       "      <th></th>\n",
       "      <th>week</th>\n",
       "      <th>nb_sold</th>\n",
       "      <th>revenue</th>\n",
       "      <th>years_as_customer</th>\n",
       "      <th>nb_site_visits</th>\n",
       "    </tr>\n",
       "  </thead>\n",
       "  <tbody>\n",
       "    <tr>\n",
       "      <th>count</th>\n",
       "      <td>7465.000000</td>\n",
       "      <td>7465.000000</td>\n",
       "      <td>7465.000000</td>\n",
       "      <td>7465.000000</td>\n",
       "      <td>7465.000000</td>\n",
       "    </tr>\n",
       "    <tr>\n",
       "      <th>mean</th>\n",
       "      <td>2.469123</td>\n",
       "      <td>9.729270</td>\n",
       "      <td>96.895006</td>\n",
       "      <td>4.976021</td>\n",
       "      <td>24.754454</td>\n",
       "    </tr>\n",
       "    <tr>\n",
       "      <th>std</th>\n",
       "      <td>1.485060</td>\n",
       "      <td>1.179374</td>\n",
       "      <td>10.826850</td>\n",
       "      <td>5.033525</td>\n",
       "      <td>3.281760</td>\n",
       "    </tr>\n",
       "    <tr>\n",
       "      <th>min</th>\n",
       "      <td>1.000000</td>\n",
       "      <td>8.000000</td>\n",
       "      <td>78.830000</td>\n",
       "      <td>0.000000</td>\n",
       "      <td>13.000000</td>\n",
       "    </tr>\n",
       "    <tr>\n",
       "      <th>25%</th>\n",
       "      <td>1.000000</td>\n",
       "      <td>9.000000</td>\n",
       "      <td>88.390000</td>\n",
       "      <td>1.000000</td>\n",
       "      <td>23.000000</td>\n",
       "    </tr>\n",
       "    <tr>\n",
       "      <th>50%</th>\n",
       "      <td>2.000000</td>\n",
       "      <td>10.000000</td>\n",
       "      <td>94.270000</td>\n",
       "      <td>3.000000</td>\n",
       "      <td>25.000000</td>\n",
       "    </tr>\n",
       "    <tr>\n",
       "      <th>75%</th>\n",
       "      <td>4.000000</td>\n",
       "      <td>11.000000</td>\n",
       "      <td>104.460000</td>\n",
       "      <td>7.000000</td>\n",
       "      <td>27.000000</td>\n",
       "    </tr>\n",
       "    <tr>\n",
       "      <th>max</th>\n",
       "      <td>6.000000</td>\n",
       "      <td>15.000000</td>\n",
       "      <td>148.970000</td>\n",
       "      <td>39.000000</td>\n",
       "      <td>37.000000</td>\n",
       "    </tr>\n",
       "  </tbody>\n",
       "</table>\n",
       "</div>"
      ],
      "text/plain": [
       "              week      nb_sold      revenue  years_as_customer  \\\n",
       "count  7465.000000  7465.000000  7465.000000        7465.000000   \n",
       "mean      2.469123     9.729270    96.895006           4.976021   \n",
       "std       1.485060     1.179374    10.826850           5.033525   \n",
       "min       1.000000     8.000000    78.830000           0.000000   \n",
       "25%       1.000000     9.000000    88.390000           1.000000   \n",
       "50%       2.000000    10.000000    94.270000           3.000000   \n",
       "75%       4.000000    11.000000   104.460000           7.000000   \n",
       "max       6.000000    15.000000   148.970000          39.000000   \n",
       "\n",
       "       nb_site_visits  \n",
       "count     7465.000000  \n",
       "mean        24.754454  \n",
       "std          3.281760  \n",
       "min         13.000000  \n",
       "25%         23.000000  \n",
       "50%         25.000000  \n",
       "75%         27.000000  \n",
       "max         37.000000  "
      ]
     },
     "execution_count": 12,
     "metadata": {},
     "output_type": "execute_result"
    }
   ],
   "source": [
    "# describe email only method\n",
    "email_only = cleaned[cleaned['sales_method'] == 'email']\n",
    "email_only.describe()"
   ]
  },
  {
   "cell_type": "code",
   "execution_count": 13,
   "metadata": {},
   "outputs": [
    {
     "data": {
      "text/html": [
       "<div>\n",
       "<style scoped>\n",
       "    .dataframe tbody tr th:only-of-type {\n",
       "        vertical-align: middle;\n",
       "    }\n",
       "\n",
       "    .dataframe tbody tr th {\n",
       "        vertical-align: top;\n",
       "    }\n",
       "\n",
       "    .dataframe thead th {\n",
       "        text-align: right;\n",
       "    }\n",
       "</style>\n",
       "<table border=\"1\" class=\"dataframe\">\n",
       "  <thead>\n",
       "    <tr style=\"text-align: right;\">\n",
       "      <th></th>\n",
       "      <th>week</th>\n",
       "      <th>nb_sold</th>\n",
       "      <th>revenue</th>\n",
       "      <th>years_as_customer</th>\n",
       "      <th>nb_site_visits</th>\n",
       "    </tr>\n",
       "  </thead>\n",
       "  <tbody>\n",
       "    <tr>\n",
       "      <th>count</th>\n",
       "      <td>4961.000000</td>\n",
       "      <td>4961.000000</td>\n",
       "      <td>4961.000000</td>\n",
       "      <td>4961.000000</td>\n",
       "      <td>4961.000000</td>\n",
       "    </tr>\n",
       "    <tr>\n",
       "      <th>mean</th>\n",
       "      <td>3.426325</td>\n",
       "      <td>9.509575</td>\n",
       "      <td>49.287491</td>\n",
       "      <td>5.168313</td>\n",
       "      <td>24.423302</td>\n",
       "    </tr>\n",
       "    <tr>\n",
       "      <th>std</th>\n",
       "      <td>1.564946</td>\n",
       "      <td>1.734017</td>\n",
       "      <td>12.121708</td>\n",
       "      <td>5.089530</td>\n",
       "      <td>3.600041</td>\n",
       "    </tr>\n",
       "    <tr>\n",
       "      <th>min</th>\n",
       "      <td>1.000000</td>\n",
       "      <td>7.000000</td>\n",
       "      <td>32.540000</td>\n",
       "      <td>0.000000</td>\n",
       "      <td>12.000000</td>\n",
       "    </tr>\n",
       "    <tr>\n",
       "      <th>25%</th>\n",
       "      <td>2.000000</td>\n",
       "      <td>8.000000</td>\n",
       "      <td>41.630000</td>\n",
       "      <td>1.000000</td>\n",
       "      <td>22.000000</td>\n",
       "    </tr>\n",
       "    <tr>\n",
       "      <th>50%</th>\n",
       "      <td>4.000000</td>\n",
       "      <td>10.000000</td>\n",
       "      <td>49.930000</td>\n",
       "      <td>4.000000</td>\n",
       "      <td>24.000000</td>\n",
       "    </tr>\n",
       "    <tr>\n",
       "      <th>75%</th>\n",
       "      <td>5.000000</td>\n",
       "      <td>11.000000</td>\n",
       "      <td>52.980000</td>\n",
       "      <td>7.000000</td>\n",
       "      <td>27.000000</td>\n",
       "    </tr>\n",
       "    <tr>\n",
       "      <th>max</th>\n",
       "      <td>6.000000</td>\n",
       "      <td>14.000000</td>\n",
       "      <td>93.934943</td>\n",
       "      <td>38.000000</td>\n",
       "      <td>41.000000</td>\n",
       "    </tr>\n",
       "  </tbody>\n",
       "</table>\n",
       "</div>"
      ],
      "text/plain": [
       "              week      nb_sold      revenue  years_as_customer  \\\n",
       "count  4961.000000  4961.000000  4961.000000        4961.000000   \n",
       "mean      3.426325     9.509575    49.287491           5.168313   \n",
       "std       1.564946     1.734017    12.121708           5.089530   \n",
       "min       1.000000     7.000000    32.540000           0.000000   \n",
       "25%       2.000000     8.000000    41.630000           1.000000   \n",
       "50%       4.000000    10.000000    49.930000           4.000000   \n",
       "75%       5.000000    11.000000    52.980000           7.000000   \n",
       "max       6.000000    14.000000    93.934943          38.000000   \n",
       "\n",
       "       nb_site_visits  \n",
       "count     4961.000000  \n",
       "mean        24.423302  \n",
       "std          3.600041  \n",
       "min         12.000000  \n",
       "25%         22.000000  \n",
       "50%         24.000000  \n",
       "75%         27.000000  \n",
       "max         41.000000  "
      ]
     },
     "execution_count": 13,
     "metadata": {},
     "output_type": "execute_result"
    }
   ],
   "source": [
    "# describe call only method\n",
    "call_only = cleaned[cleaned['sales_method'] == 'call']\n",
    "call_only.describe()"
   ]
  },
  {
   "cell_type": "code",
   "execution_count": 14,
   "metadata": {},
   "outputs": [
    {
     "data": {
      "text/html": [
       "<div>\n",
       "<style scoped>\n",
       "    .dataframe tbody tr th:only-of-type {\n",
       "        vertical-align: middle;\n",
       "    }\n",
       "\n",
       "    .dataframe tbody tr th {\n",
       "        vertical-align: top;\n",
       "    }\n",
       "\n",
       "    .dataframe thead th {\n",
       "        text-align: right;\n",
       "    }\n",
       "</style>\n",
       "<table border=\"1\" class=\"dataframe\">\n",
       "  <thead>\n",
       "    <tr style=\"text-align: right;\">\n",
       "      <th></th>\n",
       "      <th>week</th>\n",
       "      <th>nb_sold</th>\n",
       "      <th>revenue</th>\n",
       "      <th>years_as_customer</th>\n",
       "      <th>nb_site_visits</th>\n",
       "    </tr>\n",
       "  </thead>\n",
       "  <tbody>\n",
       "    <tr>\n",
       "      <th>count</th>\n",
       "      <td>2572.000000</td>\n",
       "      <td>2572.000000</td>\n",
       "      <td>2572.000000</td>\n",
       "      <td>2572.000000</td>\n",
       "      <td>2572.000000</td>\n",
       "    </tr>\n",
       "    <tr>\n",
       "      <th>mean</th>\n",
       "      <td>4.291602</td>\n",
       "      <td>12.225505</td>\n",
       "      <td>171.477444</td>\n",
       "      <td>4.507387</td>\n",
       "      <td>26.771384</td>\n",
       "    </tr>\n",
       "    <tr>\n",
       "      <th>std</th>\n",
       "      <td>1.448090</td>\n",
       "      <td>1.931459</td>\n",
       "      <td>40.931708</td>\n",
       "      <td>4.760987</td>\n",
       "      <td>3.357916</td>\n",
       "    </tr>\n",
       "    <tr>\n",
       "      <th>min</th>\n",
       "      <td>1.000000</td>\n",
       "      <td>8.000000</td>\n",
       "      <td>93.934943</td>\n",
       "      <td>0.000000</td>\n",
       "      <td>14.000000</td>\n",
       "    </tr>\n",
       "    <tr>\n",
       "      <th>25%</th>\n",
       "      <td>3.000000</td>\n",
       "      <td>10.000000</td>\n",
       "      <td>149.822500</td>\n",
       "      <td>1.000000</td>\n",
       "      <td>25.000000</td>\n",
       "    </tr>\n",
       "    <tr>\n",
       "      <th>50%</th>\n",
       "      <td>5.000000</td>\n",
       "      <td>12.000000</td>\n",
       "      <td>182.135000</td>\n",
       "      <td>3.000000</td>\n",
       "      <td>27.000000</td>\n",
       "    </tr>\n",
       "    <tr>\n",
       "      <th>75%</th>\n",
       "      <td>5.000000</td>\n",
       "      <td>13.000000</td>\n",
       "      <td>189.535000</td>\n",
       "      <td>6.000000</td>\n",
       "      <td>29.000000</td>\n",
       "    </tr>\n",
       "    <tr>\n",
       "      <th>max</th>\n",
       "      <td>6.000000</td>\n",
       "      <td>16.000000</td>\n",
       "      <td>238.320000</td>\n",
       "      <td>39.000000</td>\n",
       "      <td>37.000000</td>\n",
       "    </tr>\n",
       "  </tbody>\n",
       "</table>\n",
       "</div>"
      ],
      "text/plain": [
       "              week      nb_sold      revenue  years_as_customer  \\\n",
       "count  2572.000000  2572.000000  2572.000000        2572.000000   \n",
       "mean      4.291602    12.225505   171.477444           4.507387   \n",
       "std       1.448090     1.931459    40.931708           4.760987   \n",
       "min       1.000000     8.000000    93.934943           0.000000   \n",
       "25%       3.000000    10.000000   149.822500           1.000000   \n",
       "50%       5.000000    12.000000   182.135000           3.000000   \n",
       "75%       5.000000    13.000000   189.535000           6.000000   \n",
       "max       6.000000    16.000000   238.320000          39.000000   \n",
       "\n",
       "       nb_site_visits  \n",
       "count     2572.000000  \n",
       "mean        26.771384  \n",
       "std          3.357916  \n",
       "min         14.000000  \n",
       "25%         25.000000  \n",
       "50%         27.000000  \n",
       "75%         29.000000  \n",
       "max         37.000000  "
      ]
     },
     "execution_count": 14,
     "metadata": {},
     "output_type": "execute_result"
    }
   ],
   "source": [
    "# describe email + call method\n",
    "email_call = cleaned[cleaned['sales_method'] == 'email + call']\n",
    "email_call.describe()"
   ]
  },
  {
   "cell_type": "code",
   "execution_count": 16,
   "metadata": {},
   "outputs": [
    {
     "data": {
      "text/plain": [
       "<Axes: xlabel='sales_method', ylabel='revenue'>"
      ]
     },
     "execution_count": 16,
     "metadata": {},
     "output_type": "execute_result"
    },
    {
     "data": {
      "image/png": "[encoded data removed]",
      "text/plain": [
       "<Figure size 640x480 with 1 Axes>"
      ]
     },
     "metadata": {},
     "output_type": "display_data"
    }
   ],
   "source": [
    "# boxplot of revenue by sales method\n",
    "sns.boxplot(x='sales_method', y='revenue', data=cleaned)"
   ]
  },
  {
   "cell_type": "code",
   "execution_count": 18,
   "metadata": {},
   "outputs": [
    {
     "data": {
      "text/plain": [
       "<Axes: xlabel='sales_method', ylabel='count'>"
      ]
     },
     "execution_count": 18,
     "metadata": {},
     "output_type": "execute_result"
    },
    {
     "data": {
      "image/png": "[encoded data removed]",
      "text/plain": [
       "<Figure size 640x480 with 1 Axes>"
      ]
     },
     "metadata": {},
     "output_type": "display_data"
    }
   ],
   "source": [
    "# barplot of customers by method\n",
    "sns.countplot(x='sales_method', data=cleaned)"
   ]
  },
  {
   "cell_type": "code",
   "execution_count": 20,
   "metadata": {},
   "outputs": [
    {
     "data": {
      "text/plain": [
       "<Axes: xlabel='week', ylabel='revenue'>"
      ]
     },
     "execution_count": 20,
     "metadata": {},
     "output_type": "execute_result"
    },
    {
     "data": {
      "image/png": "[encoded data removed]",
      "text/plain": [
       "<Figure size 640x480 with 1 Axes>"
      ]
     },
     "metadata": {},
     "output_type": "display_data"
    }
   ],
   "source": [
    "# scatter plot of revenue by weaks per method\n",
    "sns.scatterplot(x='week', y='revenue', hue='sales_method', data=cleaned)"
   ]
  },
  {
   "cell_type": "code",
   "execution_count": 27,
   "metadata": {},
   "outputs": [
    {
     "data": {
      "text/plain": [
       "<Axes: xlabel='sales_method', ylabel='sales_method'>"
      ]
     },
     "execution_count": 27,
     "metadata": {},
     "output_type": "execute_result"
    },
    {
     "data": {
      "image/png": "[encoded data removed]",
      "text/plain": [
       "<Figure size 640x480 with 2 Axes>"
      ]
     },
     "metadata": {},
     "output_type": "display_data"
    }
   ],
   "source": [
    "# correlation matrix of revenue per method\n",
    "revenue_corr = cleaned.pivot_table(index='customer_id', columns='sales_method', values='revenue').corr()\n",
    "sns.heatmap(revenue_corr, annot=True, cmap='coolwarm')"
   ]
  }
 ],
 "metadata": {
  "kernelspec": {
   "display_name": "Python 3",
   "language": "python",
   "name": "python3"
  },
  "language_info": {
   "codemirror_mode": {
    "name": "ipython",
    "version": 3
   },
   "file_extension": ".py",
   "mimetype": "text/x-python",
   "name": "python",
   "nbconvert_exporter": "python",
   "pygments_lexer": "ipython3",
   "version": "3.12.5"
  }
 },
 "nbformat": 4,
 "nbformat_minor": 2
}
